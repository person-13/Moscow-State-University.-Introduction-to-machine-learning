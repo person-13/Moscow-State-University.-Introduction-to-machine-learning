{
 "cells": [
  {
   "cell_type": "markdown",
   "metadata": {},
   "source": [
    "<center>Проект по курсу \"Машинное обучение и анализ данных\".</center>\n",
    "<center>Выполнили студенты групп э521, э522:</center>\n",
    "<center>Мигранов Ратмир, Мирхалилов Дониёр. </center>\n",
    "<center>Преподаватель: </center>\n",
    "<center>Шокуров Антон В.</center>"
   ]
  },
  {
   "cell_type": "markdown",
   "metadata": {},
   "source": [
    "<center><h1>ПРОЕКТ</h1></center>"
   ]
  },
  {
   "cell_type": "markdown",
   "metadata": {},
   "source": [
    "<h3>Импорт необходимых библиотек</h3>"
   ]
  },
  {
   "cell_type": "code",
   "execution_count": 353,
   "metadata": {},
   "outputs": [],
   "source": [
    "import pandas as pd\n",
    "import numpy as np\n",
    "import matplotlib.pyplot as plt\n",
    "import numpy.polynomial.polynomial as poly\n",
    "import scipy.optimize as opt"
   ]
  },
  {
   "cell_type": "markdown",
   "metadata": {},
   "source": [
    "<h3>Загрузка данных </h3>"
   ]
  },
  {
   "cell_type": "markdown",
   "metadata": {},
   "source": [
    "Изначально было решено, загружать не обработанные данные, для того, чтобы научиться обрабатывать их в программе. Логика, проста, восемьдесят точек можно обработать в ручную, но миллион уже не обработаешь. Всего будем загружать, пять файлов."
   ]
  },
  {
   "cell_type": "code",
   "execution_count": 354,
   "metadata": {},
   "outputs": [],
   "source": [
    "#Функция которая поможет немного упростить код по загрузке данных \n",
    "def Fun_DATA (a,n,b,c,d,f):\n",
    "    Data = pd.ExcelFile(a).parse()\n",
    "    Smena =(['Субъекты']+[b]*f+list(map(lambda x: n+x, range((len(Data.columns)+c))))) \n",
    "    Smena_name=list(map(str,Smena))\n",
    "    Data.columns=Smena_name\n",
    "    Agregate = pd.Series(Data[\"2018\"].values, index=Data['Субъекты'].values)\n",
    "    Agregate = Agregate[d:]\n",
    "    return Agregate"
   ]
  },
  {
   "cell_type": "markdown",
   "metadata": {},
   "source": [
    "#### Коэффициент Джинни"
   ]
  },
  {
   "cell_type": "code",
   "execution_count": 355,
   "metadata": {},
   "outputs": [
    {
     "data": {
      "text/plain": [
       "Алтайский край                                                0.378\n",
       "Амурская область                                              0.399\n",
       "Архангельская область                                         0.382\n",
       "Архангельская область (кроме Hенецкого автономного округа)    0.366\n",
       "Астраханская область                                          0.364\n",
       "                                                              ...  \n",
       "Ямало-Ненецкий автономный округ                               0.435\n",
       "Ярославская область                                           0.358\n",
       "г.Москва                                                      0.415\n",
       "г.Санкт-Петербург                                             0.405\n",
       "г.Севастополь                                                 0.364\n",
       "Length: 87, dtype: float64"
      ]
     },
     "execution_count": 355,
     "metadata": {},
     "output_type": "execute_result"
    }
   ],
   "source": [
    "Agregate_Gini=Fun_DATA('Коэф Джини.xlsx',1992,'Пустой Столбец',-2,2,1)\n",
    "Gini_invers = list(map(lambda x: Agregate_Gini.index[x].strip(), range(len(Agregate_Gini))))\n",
    "Agregate_Gini = pd.Series(Agregate_Gini.values, index = Gini_invers)\n",
    "\n",
    "#Дальше будут повторяться названия поэтому мы их агрегируем\n",
    "\n",
    "Gini_make=Agregate_Gini.dropna().groupby(by=Agregate_Gini.dropna().index).sum()\n",
    "del (Gini_make['Российская Федерация'], Gini_make['Центральный федеральный округ'],\n",
    "    Gini_make['Южный федеральный округ (с 29.07.2016)'], Gini_make['Приволжский федеральный округ'],\n",
    "    Gini_make['Северо-Западный федеральный округ'], Gini_make['Уральский федеральный округ'],\n",
    "    Gini_make['Дальневосточный федеральный округ'], Gini_make['Северо-Кавказский федеральный округ'],\n",
    "    Gini_make['Сибирский федеральный округ'])\n",
    "Gini_make"
   ]
  },
  {
   "cell_type": "markdown",
   "metadata": {},
   "source": [
    "<h5> Уровень безработицы населения в возрасте 15-72 лет по субъектам Российской Федерации </h5>"
   ]
  },
  {
   "cell_type": "code",
   "execution_count": 356,
   "metadata": {},
   "outputs": [
    {
     "data": {
      "text/plain": [
       "True"
      ]
     },
     "execution_count": 356,
     "metadata": {},
     "output_type": "execute_result"
    }
   ],
   "source": [
    "Agregate_Urov=Fun_DATA('Ur Bez.xlsx',2000,'Пустой Столбец',-1,3,0)\n",
    "Urov_invers = list(map(lambda x: Agregate_Urov.index[x].strip(), range(len(Agregate_Urov))))\n",
    "Agregate_Urov = pd.Series(Agregate_Urov.values, index = Urov_invers)\n",
    "Urov_make = Agregate_Urov.dropna()\n",
    "del (Urov_make['Российская Федерация'], Urov_make['Центральный федеральный округ'], Urov_make['Приволжский федеральный округ'],\n",
    "    Urov_make['Северо-Западный федеральный округ'], Urov_make['Уральский федеральный округ'],\n",
    "    Urov_make['Дальневосточный федеральный округ'], Urov_make['Северо-Кавказский федеральный округ'],\n",
    "    Urov_make['Сибирский федеральный округ'], Urov_make['Южный федеральный округ'])\n",
    "Urov_make = Urov_make.sort_index()\n",
    "TOGDESTV_Urov = list(map(lambda x: Urov_make.index[x] == Gini_make.index[x],range(len(Urov_make.index))))\n",
    "TOGDESTV_Urov1=list(map(lambda x: Urov_make.index[x] == Gini_make.index[x],range(len(Urov_make.index))))\n",
    "sum(TOGDESTV_Urov1)==len(Gini_make)==len(Urov_make)"
   ]
  },
  {
   "cell_type": "markdown",
   "metadata": {},
   "source": [
    "<h5>Степень износа основных фондов по субъектам Российской Федерации, по полному кругу организаций, в процентах</h5>"
   ]
  },
  {
   "cell_type": "code",
   "execution_count": 357,
   "metadata": {},
   "outputs": [
    {
     "data": {
      "text/plain": [
       "True"
      ]
     },
     "execution_count": 357,
     "metadata": {},
     "output_type": "execute_result"
    }
   ],
   "source": [
    "Iznos_Fond = pd.ExcelFile('Степень износа Фондов.xlsx').parse()\n",
    "Iznos_Fond\n",
    "#Название столбцов с 1992 года существует \n",
    "\n",
    "Smena2=['Пустой Столбец']+['Субъекты']+list(map(lambda x: 2008+x, range((len(Iznos_Fond.columns)-2))))\n",
    "Smena_name2=list(map(str,Smena2))\n",
    "Iznos_Fond.columns=Smena_name2\n",
    "Agregate_Iznos = pd.Series(Iznos_Fond[\"2018\"].values, index=Iznos_Fond['Субъекты'].values)\n",
    "Agregate_Iznos = Agregate_Iznos[5:]\n",
    "Agregate_Iznos = Agregate_Iznos.dropna()\n",
    "Iznos_invers = list(map(lambda x: Agregate_Iznos.index[x].strip(), range(len(Agregate_Iznos))))\n",
    "Iznos_make = pd.Series(Agregate_Iznos.values, index = Iznos_invers)\n",
    "del (Iznos_make['Российская Федерация'], Iznos_make['Центральный федеральный округ'],\n",
    "    Iznos_make['Южный федеральный округ'], Iznos_make['Приволжский федеральный округ'],\n",
    "    Iznos_make['Северо-Западный федеральный округ'], Iznos_make['Уральский федеральный округ'],\n",
    "    Iznos_make['Дальневосточный федеральный округ'], Iznos_make['Северо-Кавказский федеральный округ'],\n",
    "    Iznos_make['Сибирский федеральный округ'])\n",
    "Iznos_make = Iznos_make.sort_index()\n",
    "TOGDESTVO_Iznos = list(map(lambda x: Iznos_make.index[x] == Gini_make.index[x],range(len(Iznos_make.index))))\n",
    "sum(TOGDESTVO_Iznos)==len(Gini_make)==len(Iznos_make)"
   ]
  },
  {
   "cell_type": "markdown",
   "metadata": {},
   "source": [
    "<h5>Валовой региональный продукт на душу населения по субъектам Российской Федерации в 1998-2018гг.</h5>"
   ]
  },
  {
   "cell_type": "code",
   "execution_count": 358,
   "metadata": {},
   "outputs": [
    {
     "data": {
      "text/plain": [
       "True"
      ]
     },
     "execution_count": 358,
     "metadata": {},
     "output_type": "execute_result"
    }
   ],
   "source": [
    "Agregate_VRP_n=Fun_DATA('Региональный ВВП на душу населения.xlsx',1998,'Пустой Столбец',-1,8,0)\n",
    "Agregate_VRP_n = Agregate_VRP_n.dropna()\n",
    "VRP_n_invers = list(map(lambda x: Agregate_VRP_n.index[x].strip(), range(len(Agregate_VRP_n))))\n",
    "VRP_n_make = pd.Series(Agregate_VRP_n.values, index = VRP_n_invers)\n",
    "del (VRP_n_make['Центральный федеральный округ'],\n",
    "    VRP_n_make['Южный федеральный округ'], VRP_n_make['Приволжский федеральный округ'],\n",
    "    VRP_n_make['Северо-Западный федеральный округ'], VRP_n_make['Уральский федеральный округ'],\n",
    "    VRP_n_make['Дальневосточный федеральный округ'], VRP_n_make['Северо-Кавказский федеральный округ'],\n",
    "    VRP_n_make['Сибирский федеральный округ'])\n",
    "VRP_n_make = VRP_n_make.sort_index()\n",
    "TOGDESTVO_VRP_n = list(map(lambda x: VRP_n_make.index[x] == Gini_make.index[x],range(len(VRP_n_make.index))))\n",
    "sum(TOGDESTVO_VRP_n)==len(Gini_make)==len(VRP_n_make)"
   ]
  },
  {
   "cell_type": "markdown",
   "metadata": {},
   "source": [
    "\n",
    "\n",
    "<h5>Доля продукции высокотехнологичных и наукоемких отраслей в валовом региональном продукте</h5>"
   ]
  },
  {
   "cell_type": "code",
   "execution_count": 359,
   "metadata": {},
   "outputs": [
    {
     "data": {
      "text/plain": [
       "True"
      ]
     },
     "execution_count": 359,
     "metadata": {},
     "output_type": "execute_result"
    }
   ],
   "source": [
    "Agregate_Tehnol=Fun_DATA('Доля высокотехнологической продукции в ВРП.xlsx',2016,'Пустой Столбец',-1,2,0)\n",
    "Tehnol = pd.ExcelFile('Доля высокотехнологической продукции в ВРП.xlsx').parse()\n",
    "Agregate_Tehnol = Agregate_Tehnol.dropna()\n",
    "Tehnol_invers = list(map(lambda x: Agregate_Tehnol.index[x].strip(), range(len(Agregate_Tehnol))))\n",
    "Tehnol_make = pd.Series(Agregate_Tehnol.values, index = Tehnol_invers)\n",
    "\n",
    "del (Tehnol_make['Российская Федерация'], Tehnol_make['Центральный федеральный округ'],\n",
    "    Tehnol_make['Южный федеральный округ'], Tehnol_make['Приволжский федеральный округ'],\n",
    "    Tehnol_make['Северо-Западный федеральный округ'], Tehnol_make['Уральский федеральный округ'],\n",
    "    Tehnol_make['Дальневосточный федеральный округ'], Tehnol_make['Северо-Кавказский федеральный округ'],\n",
    "    Tehnol_make['Сибирский федеральный округ'])\n",
    "Tehnol_make = Tehnol_make.sort_index()\n",
    "TOGDESTVO_Tehnol = list(map(lambda x: Tehnol_make.index[x] == Gini_make.index[x],range(len(Tehnol_make.index))))\n",
    "sum(TOGDESTVO_Tehnol)==len(Gini_make)==len(Tehnol_make)"
   ]
  },
  {
   "cell_type": "markdown",
   "metadata": {},
   "source": [
    "<h3>Итоговая таблица</h3>"
   ]
  },
  {
   "cell_type": "markdown",
   "metadata": {},
   "source": [
    "Ниже приведена агрегированная таблица, созданная из обработанных данных "
   ]
  },
  {
   "cell_type": "code",
   "execution_count": 360,
   "metadata": {
    "scrolled": false
   },
   "outputs": [
    {
     "data": {
      "text/html": [
       "<div>\n",
       "<style scoped>\n",
       "    .dataframe tbody tr th:only-of-type {\n",
       "        vertical-align: middle;\n",
       "    }\n",
       "\n",
       "    .dataframe tbody tr th {\n",
       "        vertical-align: top;\n",
       "    }\n",
       "\n",
       "    .dataframe thead th {\n",
       "        text-align: right;\n",
       "    }\n",
       "</style>\n",
       "<table border=\"1\" class=\"dataframe\">\n",
       "  <thead>\n",
       "    <tr style=\"text-align: right;\">\n",
       "      <th></th>\n",
       "      <th>ВВП на душу населения, млн.руб.</th>\n",
       "      <th>Уровень неравенства, %</th>\n",
       "      <th>Уровень безработицы, %</th>\n",
       "      <th>Доля высокотехнол. продукции, %</th>\n",
       "      <th>Степень износа фондов, %</th>\n",
       "    </tr>\n",
       "  </thead>\n",
       "  <tbody>\n",
       "    <tr>\n",
       "      <th>Алтайский край</th>\n",
       "      <td>234885.9</td>\n",
       "      <td>0.378</td>\n",
       "      <td>6.1</td>\n",
       "      <td>20.2</td>\n",
       "      <td>45.9</td>\n",
       "    </tr>\n",
       "    <tr>\n",
       "      <th>Амурская область</th>\n",
       "      <td>378318.7</td>\n",
       "      <td>0.399</td>\n",
       "      <td>5.6</td>\n",
       "      <td>16.8</td>\n",
       "      <td>43.8</td>\n",
       "    </tr>\n",
       "    <tr>\n",
       "      <th>Архангельская область</th>\n",
       "      <td>712652.7</td>\n",
       "      <td>0.382</td>\n",
       "      <td>6.4</td>\n",
       "      <td>18.2</td>\n",
       "      <td>47.6</td>\n",
       "    </tr>\n",
       "    <tr>\n",
       "      <th>Архангельская область (кроме Hенецкого автономного округа)</th>\n",
       "      <td>464910.5</td>\n",
       "      <td>0.366</td>\n",
       "      <td>6.3</td>\n",
       "      <td>27.3</td>\n",
       "      <td>45.8</td>\n",
       "    </tr>\n",
       "    <tr>\n",
       "      <th>Астраханская область</th>\n",
       "      <td>544793.4</td>\n",
       "      <td>0.364</td>\n",
       "      <td>7.5</td>\n",
       "      <td>9.1</td>\n",
       "      <td>45.5</td>\n",
       "    </tr>\n",
       "    <tr>\n",
       "      <th>...</th>\n",
       "      <td>...</td>\n",
       "      <td>...</td>\n",
       "      <td>...</td>\n",
       "      <td>...</td>\n",
       "      <td>...</td>\n",
       "    </tr>\n",
       "    <tr>\n",
       "      <th>Ямало-Ненецкий автономный округ</th>\n",
       "      <td>5710130.2</td>\n",
       "      <td>0.435</td>\n",
       "      <td>2.1</td>\n",
       "      <td>3.1</td>\n",
       "      <td>50.5</td>\n",
       "    </tr>\n",
       "    <tr>\n",
       "      <th>Ярославская область</th>\n",
       "      <td>443970.1</td>\n",
       "      <td>0.358</td>\n",
       "      <td>5.5</td>\n",
       "      <td>29.1</td>\n",
       "      <td>47.6</td>\n",
       "    </tr>\n",
       "    <tr>\n",
       "      <th>г.Москва</th>\n",
       "      <td>1423588.6</td>\n",
       "      <td>0.415</td>\n",
       "      <td>1.2</td>\n",
       "      <td>20.9</td>\n",
       "      <td>36.3</td>\n",
       "    </tr>\n",
       "    <tr>\n",
       "      <th>г.Санкт-Петербург</th>\n",
       "      <td>781214.3</td>\n",
       "      <td>0.405</td>\n",
       "      <td>1.5</td>\n",
       "      <td>32.8</td>\n",
       "      <td>38.9</td>\n",
       "    </tr>\n",
       "    <tr>\n",
       "      <th>г.Севастополь</th>\n",
       "      <td>180148.3</td>\n",
       "      <td>0.364</td>\n",
       "      <td>4.3</td>\n",
       "      <td>21.5</td>\n",
       "      <td>51.2</td>\n",
       "    </tr>\n",
       "  </tbody>\n",
       "</table>\n",
       "<p>87 rows × 5 columns</p>\n",
       "</div>"
      ],
      "text/plain": [
       "                                                    ВВП на душу населения, млн.руб.  \\\n",
       "Алтайский край                                                             234885.9   \n",
       "Амурская область                                                           378318.7   \n",
       "Архангельская область                                                      712652.7   \n",
       "Архангельская область (кроме Hенецкого автономн...                         464910.5   \n",
       "Астраханская область                                                       544793.4   \n",
       "...                                                                             ...   \n",
       "Ямало-Ненецкий автономный округ                                           5710130.2   \n",
       "Ярославская область                                                        443970.1   \n",
       "г.Москва                                                                  1423588.6   \n",
       "г.Санкт-Петербург                                                          781214.3   \n",
       "г.Севастополь                                                              180148.3   \n",
       "\n",
       "                                                    Уровень неравенства, %  \\\n",
       "Алтайский край                                                       0.378   \n",
       "Амурская область                                                     0.399   \n",
       "Архангельская область                                                0.382   \n",
       "Архангельская область (кроме Hенецкого автономн...                   0.366   \n",
       "Астраханская область                                                 0.364   \n",
       "...                                                                    ...   \n",
       "Ямало-Ненецкий автономный округ                                      0.435   \n",
       "Ярославская область                                                  0.358   \n",
       "г.Москва                                                             0.415   \n",
       "г.Санкт-Петербург                                                    0.405   \n",
       "г.Севастополь                                                        0.364   \n",
       "\n",
       "                                                    Уровень безработицы, %  \\\n",
       "Алтайский край                                                         6.1   \n",
       "Амурская область                                                       5.6   \n",
       "Архангельская область                                                  6.4   \n",
       "Архангельская область (кроме Hенецкого автономн...                     6.3   \n",
       "Астраханская область                                                   7.5   \n",
       "...                                                                    ...   \n",
       "Ямало-Ненецкий автономный округ                                        2.1   \n",
       "Ярославская область                                                    5.5   \n",
       "г.Москва                                                               1.2   \n",
       "г.Санкт-Петербург                                                      1.5   \n",
       "г.Севастополь                                                          4.3   \n",
       "\n",
       "                                                   Доля высокотехнол. продукции, %  \\\n",
       "Алтайский край                                                                20.2   \n",
       "Амурская область                                                              16.8   \n",
       "Архангельская область                                                         18.2   \n",
       "Архангельская область (кроме Hенецкого автономн...                            27.3   \n",
       "Астраханская область                                                           9.1   \n",
       "...                                                                            ...   \n",
       "Ямало-Ненецкий автономный округ                                                3.1   \n",
       "Ярославская область                                                           29.1   \n",
       "г.Москва                                                                      20.9   \n",
       "г.Санкт-Петербург                                                             32.8   \n",
       "г.Севастополь                                                                 21.5   \n",
       "\n",
       "                                                    Степень износа фондов, %  \n",
       "Алтайский край                                                          45.9  \n",
       "Амурская область                                                        43.8  \n",
       "Архангельская область                                                   47.6  \n",
       "Архангельская область (кроме Hенецкого автономн...                      45.8  \n",
       "Астраханская область                                                    45.5  \n",
       "...                                                                      ...  \n",
       "Ямало-Ненецкий автономный округ                                         50.5  \n",
       "Ярославская область                                                     47.6  \n",
       "г.Москва                                                                36.3  \n",
       "г.Санкт-Петербург                                                       38.9  \n",
       "г.Севастополь                                                           51.2  \n",
       "\n",
       "[87 rows x 5 columns]"
      ]
     },
     "execution_count": 360,
     "metadata": {},
     "output_type": "execute_result"
    }
   ],
   "source": [
    "Itog_Table = pd.concat([VRP_n_make, Gini_make, Urov_make, Tehnol_make, Iznos_make], axis=1)\n",
    "Itog_Table.columns = (['ВВП на душу населения, млн.руб.', 'Уровень неравенства, %', \n",
    "              'Уровень безработицы, %', 'Доля высокотехнол. продукции, %','Степень износа фондов, %'])\n",
    "Itog_Table"
   ]
  },
  {
   "cell_type": "markdown",
   "metadata": {},
   "source": [
    "<h3>Графики</h3>"
   ]
  },
  {
   "cell_type": "markdown",
   "metadata": {},
   "source": [
    "\n",
    "Построим диаграммы рассеяния, для того чтобы визуально понять регрессию"
   ]
  },
  {
   "cell_type": "code",
   "execution_count": 361,
   "metadata": {},
   "outputs": [],
   "source": [
    "#Функция построения графика \n",
    "def Grafik(a,b):\n",
    "    plt.plot( Itog_Table[Itog_Table.columns[a]], Itog_Table[Itog_Table.columns[b]], 'o')\n",
    "    plt.ylabel( Itog_Table.columns[b])\n",
    "    plt.xlabel( Itog_Table.columns[a])\n",
    "    return print('Коэффициент корреляции составляет -', \n",
    "Itog_Table[Itog_Table.columns[b]].astype(float).corr(Itog_Table[Itog_Table.columns[a]].astype(float)))"
   ]
  },
  {
   "cell_type": "code",
   "execution_count": 362,
   "metadata": {
    "scrolled": false
   },
   "outputs": [
    {
     "name": "stdout",
     "output_type": "stream",
     "text": [
      "Коэффициент корреляции составляет - 0.5629060847201415\n"
     ]
    },
    {
     "data": {
      "image/png": "[encoded data removed]",
      "text/plain": [
       "<Figure size 432x288 with 1 Axes>"
      ]
     },
     "metadata": {
      "needs_background": "light"
     },
     "output_type": "display_data"
    }
   ],
   "source": [
    "Grafik(1,0)"
   ]
  },
  {
   "cell_type": "markdown",
   "metadata": {},
   "source": [
    "Корреляция присутствует. Зависимость, возможно: квадратичная, линейная, логарифмическая "
   ]
  },
  {
   "cell_type": "code",
   "execution_count": 363,
   "metadata": {},
   "outputs": [
    {
     "name": "stdout",
     "output_type": "stream",
     "text": [
      "Коэффициент корреляции составляет - -0.1690268854924739\n"
     ]
    },
    {
     "data": {
      "image/png": "[encoded data removed]",
      "text/plain": [
       "<Figure size 432x288 with 1 Axes>"
      ]
     },
     "metadata": {
      "needs_background": "light"
     },
     "output_type": "display_data"
    }
   ],
   "source": [
    "Grafik(2,0)"
   ]
  },
  {
   "cell_type": "markdown",
   "metadata": {},
   "source": [
    "Корреляция присутствует. Зависимость, возможно: квадратичная, линейная, логарифмическая "
   ]
  },
  {
   "cell_type": "code",
   "execution_count": 364,
   "metadata": {},
   "outputs": [
    {
     "name": "stdout",
     "output_type": "stream",
     "text": [
      "Коэффициент корреляции составляет - -0.5704902716581101\n"
     ]
    },
    {
     "data": {
      "image/png": "[encoded data removed]",
      "text/plain": [
       "<Figure size 432x288 with 1 Axes>"
      ]
     },
     "metadata": {
      "needs_background": "light"
     },
     "output_type": "display_data"
    }
   ],
   "source": [
    "Grafik(3,0)"
   ]
  },
  {
   "cell_type": "markdown",
   "metadata": {},
   "source": [
    "Корреляция присутствует. Зависимость, возможно: квадратичная, линейная"
   ]
  },
  {
   "cell_type": "code",
   "execution_count": 365,
   "metadata": {},
   "outputs": [
    {
     "name": "stdout",
     "output_type": "stream",
     "text": [
      "Коэффициент корреляции составляет - 0.17237658439872777\n"
     ]
    },
    {
     "data": {
      "image/png": "[encoded data removed]",
      "text/plain": [
       "<Figure size 432x288 with 1 Axes>"
      ]
     },
     "metadata": {
      "needs_background": "light"
     },
     "output_type": "display_data"
    }
   ],
   "source": [
    "Grafik(4,0)"
   ]
  },
  {
   "cell_type": "markdown",
   "metadata": {},
   "source": [
    "Корреляция присутствует. Зависимость, возможно: квадратичная, линейная"
   ]
  },
  {
   "cell_type": "markdown",
   "metadata": {},
   "source": [
    "Даллее каждой переменной присваивается столбец из итоговой таблицы.\n",
    "Y - ВВП на душу населения;\n",
    "X0 - Матрица состоящая из единиц для оценки постоянного коэффициента;\n",
    "X1 - Уровень неравенства;\n",
    "X2 - Уровень безработицы;\n",
    "X3 - Доля высокотехнол. продукции;\n",
    "X4 - Степень износа фондов."
   ]
  },
  {
   "cell_type": "code",
   "execution_count": 366,
   "metadata": {},
   "outputs": [],
   "source": [
    "Itog_Table.columns = (['ВВП на душу населения, млн.руб.', 'Уровень неравенства, %', \n",
    "              'Уровень безработицы, %', 'Доля высокотехнол. продукции, %','Степень износа фондов, %'])\n",
    "\n",
    "Y = Itog_Table['ВВП на душу населения, млн.руб.'].values.reshape(len(Itog_Table['ВВП на душу населения, млн.руб.']), 1)\n",
    "X0 = np.ones((Y.shape[0],1)).astype(float)\n",
    "X1 = Itog_Table['Уровень неравенства, %'].values.reshape( Y.shape[0], 1).astype(float)\n",
    "X2 = Itog_Table['Уровень безработицы, %'].values.reshape( Y.shape[0], 1).astype(float)\n",
    "X3 = Itog_Table['Доля высокотехнол. продукции, %'].values.reshape( Y.shape[0], 1).astype(float)\n",
    "X4 = Itog_Table['Степень износа фондов, %'].values.reshape( Y.shape[0], 1).astype(float)"
   ]
  },
  {
   "cell_type": "markdown",
   "metadata": {},
   "source": [
    "<h3>Обучение и проверка</h3>"
   ]
  },
  {
   "cell_type": "markdown",
   "metadata": {},
   "source": [
    "Переменные в class MNK:\n",
    "\n",
    "Переменным a,c,e,g можно присваивать значения np.log,np.exp и т.д. Таким, образом можно менять \n",
    "все элементы матрицы.\n",
    "\n",
    "Переменные b,d,f,h это степень в которую можно возвести признак \n",
    "\n",
    "С помощью переменных n,m,w,v можно убрать некоторые признаки \n",
    "\n",
    "k - количество повторов цикла\n",
    "\n",
    "p - задаем процент обучающих данных "
   ]
  },
  {
   "cell_type": "markdown",
   "metadata": {},
   "source": [
    "С помощью функции def Regular можно считать ошибки с регуляризацией \n",
    "\n",
    "Переменными L1, L2 можно регулировать регуляризацию\n",
    "\n",
    "С помощью функции def Non_stand_err можно считать не стандартную ошибку(не квадратичную) \n",
    "\n",
    "С помщью переменных vv,ff,oo,nn можно регулировать степени ошибок \n"
   ]
  },
  {
   "cell_type": "code",
   "execution_count": 367,
   "metadata": {},
   "outputs": [],
   "source": [
    "class MNK:\n",
    "    Spicok=[]\n",
    "    Spicok1=[]\n",
    "    Spicok2=[]\n",
    "    Spicok3=[]\n",
    "    def __init__(self, a=np.array, b=1, c=np.array, d=1,\n",
    "                 e=np.array, f=1, g=np.array, h=1, n=1, m=1, w=1, v=1, k=1, p=0.75,L1=0,L2=0,vv=1,ff=1,oo=1,nn=1):\n",
    "        #присваиваем значения по умолчанию \n",
    "        self.sum1 = 0.\n",
    "        self.sum2 = 0.\n",
    "        self.data = []\n",
    "        self.erorLIN = []\n",
    "        self.erorSQR = []\n",
    "        self.erorLIN1 = []\n",
    "        self.erorSQR1 = []\n",
    "        self.erorLIN2 = []\n",
    "        self.erorSQR2 = []\n",
    "        self.erorLIN3 = []\n",
    "        self.erorSQR3 = []\n",
    "        self.test_error = []\n",
    "        self.sum3 = 0.\n",
    "        self.sum4 = 0.\n",
    "        self.erorSQR4 = []\n",
    "        self.erorSQR5 = []\n",
    "        self.sum5 = 0.\n",
    "        self.sum6 = 0.\n",
    "        self.erorSQR6 = 0.\n",
    "        self.sum6=0\n",
    "    def MNK_koef(self,a,b,c,d,e,f,g,h,n,m,w,v,k,p):\n",
    "        self.a=a\n",
    "        self.b=b\n",
    "        self.c=c\n",
    "        self.d=d\n",
    "        self.e=e\n",
    "        self.f=f\n",
    "        self.g=g\n",
    "        self.h=h\n",
    "        self.n=n\n",
    "        self.m=m\n",
    "        self.w=w\n",
    "        self.v=v\n",
    "        #Далее считаем коэффициенты с помощью МНК \n",
    "        self.Matrix = np.concatenate([X0, (self.n*self.a(X1)**self.b), (self.m*self.c(X2)**self.d), \n",
    "                                      (self.w*self.e(X3)**self.f), (self.v*self.g(X4)**self.h)],\n",
    "                                     axis=1)\n",
    "        self.Matrix = self.Matrix.astype(float)\n",
    "        self.Matrix_obr = np.linalg.pinv( self.Matrix )\n",
    "        self.Koef = self.Matrix_obr.dot( Y )\n",
    "        self.Koef = self.Koef.reshape( self.Koef.shape[0] )\n",
    "        print(\"*\"*60)\n",
    "        print('Коэффициент перед переменной X0 =', self.Koef[0])\n",
    "        print('Коэффициент перед переменной X1 =', self.Koef[1])\n",
    "        print('Коэффициент перед переменной X2 =', self.Koef[2])\n",
    "        print('Коэффициент перед переменной X3 =', self.Koef[3])\n",
    "        print('Коэффициент перед переменной X4 =', self.Koef[4])\n",
    "        print(\"*\"*60)\n",
    "        print (\"ПОЛНЫЙ НАБОР ДАННЫХ\") \n",
    "        #Счиатем ошибку \n",
    "        for i in range(Y.shape[0]):\n",
    "            self.err = (self.Koef[0]+self.Koef[1]*(self.n*self.a(X1)**self.b)[i]+\n",
    "                        self.Koef[2]*(self.m*self.c(X2)**self.d)[i]+\n",
    "                   self.Koef[3]*(self.w*self.e(X3)**self.f)[i]+\n",
    "                        self.Koef[4]*(self.v*self.g(X4)**self.h)[i])-Y[i]\n",
    "            self.sum1 += self.err\n",
    "            self.sum2 += self.err * self.err\n",
    "        print( \"Ошибка                          =\", self.sum1[0])\n",
    "        print( \"Средний квадрат ошибки          =\", self.sum2[0]/Y.shape[0])\n",
    "        #Далее заносим коэффициенты в отдельный список, для дальнейшего их сравнения \n",
    "        self.data.append( self.Koef[0]),self.data.append( self.Koef[1]),self.data.append( self.Koef[2])\n",
    "        self.data.append( self.Koef[3]),self.data.append( self.Koef[4])\n",
    "        \n",
    "        for j in range(k):\n",
    "            #Делим случайно данные на обучающие и тестовые \n",
    "            perm = np.random.permutation( Y.shape[0] )\n",
    "            self.ii = perm[:int(Y.shape[0] * p)]\n",
    "            self.jj = perm[int(Y.shape[0]*p):]\n",
    "            #Далее всё как и выше, но только по обучающим данным \n",
    "            self.Matrix1 = np.concatenate([X0[self.ii], (self.n*self.a(X1)**self.b)[self.ii], \n",
    "                                          (self.m*self.c(X2)**self.d)[self.ii], \n",
    "                                      (self.w*self.e(X3)**self.f)[self.ii], (self.v*self.g(X4)**self.h)[self.ii]], axis=1)\n",
    "            self.Matrix1 = self.Matrix1.astype(float)\n",
    "            self.Matrix_obr1 = np.linalg.pinv( self.Matrix1 )\n",
    "            self.Koef1 = self.Matrix_obr1.dot( Y[self.ii] )\n",
    "            self.Koef1 = self.Koef1.reshape( self.Koef1.shape[0] )\n",
    "            err1 = list(map (lambda x: ((((self.Koef1[0]+self.Koef1[1]*(self.n*self.a(X1)**self.b)[self.ii][x]+\n",
    "                        self.Koef1[2]*(self.m*self.c(X2)**self.d)[self.ii][x]+\n",
    "                   self.Koef1[3]*(self.w*self.e(X3)**self.f)[self.ii][x]+self.Koef1[4]\n",
    "                                  *(self.v*self.g(X4)**self.h)[self.ii][x])-Y[self.ii][x]))), (range(Y[self.ii].shape[0]))))\n",
    "            g=sum(err1)/Y[self.ii].shape[0]\n",
    "            gg=sum(list(map(lambda x: x**2, err1)))/Y[self.ii].shape[0]\n",
    "            self.erorLIN.append(g[0])\n",
    "            self.erorSQR.append(gg[0])\n",
    "            #Ошибка на тестовых данных \n",
    "            err2 = list(map (lambda x: ((((self.Koef1[0]+self.Koef1[1]*(self.n*self.a(X1)**self.b)[self.jj][x]+\n",
    "                        self.Koef1[2]*(self.m*self.c(X2)**self.d)[self.jj][x]+\n",
    "                   self.Koef1[3]*(self.w*self.e(X3)**self.f)[self.jj][x]+self.Koef1[4]\n",
    "                                  *(self.v*self.g(X4)**self.h)[self.jj][x])-Y[self.jj][x]))), (range(Y[self.jj].shape[0]))))\n",
    "            ggg=sum(err2)/Y[self.jj].shape[0]\n",
    "            gggg=sum(list(map(lambda x: x**2, err2)))/Y[self.jj].shape[0]\n",
    "            self.erorLIN1.append(ggg[0])\n",
    "            self.erorSQR1.append(gggg[0]) \n",
    "            \n",
    "            #ДОБАВЛЯЕМ ОПТИМАЙЗ\n",
    "            z=opt.minimize( self.optim, (0,0,0,0,0), method = 'powell' )\n",
    "            err3 = list(map (lambda x: ((((z.x[0]+z.x[1]*(self.n*self.a(X1)**self.b)[self.ii][x]\n",
    "                                           +z.x[2]*(self.m*self.c(X2)**self.d)[self.ii][x]+\n",
    "                   z.x[3]*(self.w*self.e(X3)**self.f)[self.ii][x]+z.x[4]*(self.v*self.g(X4)**self.h)[self.ii][x])\n",
    "                                          -Y[self.ii][x]))), (range(Y[self.ii].shape[0]))))\n",
    "            ggggg=sum(err1)/Y[self.ii].shape[0]\n",
    "            gggggg=sum(list(map(lambda x: x**2, err1)))/Y[self.ii].shape[0]\n",
    "            self.erorLIN2.append(ggggg[0])\n",
    "            self.erorSQR2.append(gggggg[0])\n",
    "            #Ошибка на тестовых данных \n",
    "            err4 = list(map (lambda x: ((((z.x[0]+z.x[1]*(self.n*self.a(X1)**self.b)[self.jj][x]\n",
    "                                           +z.x[2]*(self.m*self.c(X2)**self.d)[self.jj][x]+\n",
    "                        z.x[3]*(self.w*self.e(X3)**self.f)[self.jj][x]\n",
    "                                           +z.x[4]*(self.v*self.g(X4)**self.h)[self.jj][x])\n",
    "                                          -Y[self.jj][x]))), (range(Y[self.jj].shape[0]))))\n",
    "            ggggggg=sum(err2)/Y[self.jj].shape[0]\n",
    "            gggggggg=sum(list(map(lambda x: x**2, err2)))/Y[self.jj].shape[0]\n",
    "            self.erorLIN3.append(ggggggg[0])\n",
    "            self.erorSQR3.append(gggggggg[0]) \n",
    "            \n",
    "        \n",
    "        print(\"*************************МНК********************************\")\n",
    "        print(\"*\"*60)\n",
    "        print (\"ОБУЧАЮЩИЕ ДАННЫЕ\")\n",
    "        print (\"Ошибка                          =\", sum(self.erorLIN)/k)\n",
    "        print (\"Средний квадрат ошибки          =\", sum(self.erorSQR)/k)\n",
    "        print(\"*\"*60)\n",
    "        print (\"ТЕСТОВЫЕ ДАННЫЕ\")\n",
    "        print (\"Ошибка                          =\", sum(self.erorLIN1)/k)\n",
    "        print (\"Средний квадрат ошибки          =\", sum(self.erorSQR1)/k)\n",
    "        print(\"*\"*60)\n",
    "        print(\"******************ФУНКЦИЯ МИНИМУМА**************************\")\n",
    "        print(\"*\"*60)\n",
    "        print (\"ОБУЧАЮЩИЕ ДАННЫЕ\")\n",
    "        print (\"Ошибка                          =\", sum(self.erorLIN2)/k)\n",
    "        print (\"Средний квадрат ошибки          =\", sum(self.erorSQR2)/k)\n",
    "        print(\"*\"*60)\n",
    "        print (\"ТЕСТОВЫЕ ДАННЫЕ\")\n",
    "        print (\"Ошибка                          =\", sum(self.erorLIN3)/k)\n",
    "        print (\"Средний квадрат ошибки          =\", sum(self.erorSQR3)/k)\n",
    "        print(\"*\"*60)\n",
    "        self.test_error.append(sum(self.erorSQR1)/k)\n",
    "        self.Spicok.append(sum(self.erorSQR1)/k)\n",
    "        self.Spicok1.append(sum(self.erorSQR3)/k)\n",
    "        \n",
    "    def optim(self,Koeff ):\n",
    "        err = list(map (lambda x: ((((Koeff[0]+Koeff[1]*(self.a(X1)**self.b)[self.ii][x]+Koeff[2]*(self.c(X2)**self.d)[self.ii][x]+\n",
    "                Koeff[3]*(self.e(X3)**self.f)[self.ii][x]+Koeff[4]*(self.g(X4)**self.h)[self.ii][x])-Y[self.ii][x]))**2), (range(Y[self.ii].shape[0]))))\n",
    "        return np.mean( err )\n",
    "       \n",
    "        \n",
    "    def Regular(self,a,b,c,d,e,f,g,h,n,m,w,v,k,p,L1,L2):\n",
    "        self.L1=L1\n",
    "        self.L2=L2\n",
    "\n",
    "        for j in range(k):\n",
    "            #Делим случайно данные на обучающие и тестовые \n",
    "            perm = np.random.permutation( Y.shape[0] )\n",
    "            self.ii = perm[:int(Y.shape[0] * p)]\n",
    "            self.jj = perm[int(Y.shape[0]*p):]\n",
    "            #ДОБАВЛЯЕМ ОПТИМАЙЗ\n",
    "            z=opt.minimize( self.optim1, (0,0,0,0,0), method = 'powell' )\n",
    "            err5 = list(map(lambda x:((z.x[0]+z.x[1]*(self.a(X1)**self.b)[self.ii][x]\n",
    "            +z.x[2]*(self.c(X2)**self.d)[self.ii][x]\n",
    "            +z.x[3]*(self.e(X3)**self.f)[self.ii][x]+z.x[4]*(self.g(X4)**self.h)[self.ii][x])-Y[self.ii][x])**2\n",
    "            +self.L1*((np.abs(z.x[1])+np.abs(z.x[2])+np.abs(z.x[3])\n",
    "            +np.abs(z.x[4])))+self.L2*(((z.x[1])**2+(z.x[2])**2+(z.x[3])**2+(z.x[4])**2)), range(self.ii.shape[0])))\n",
    "            ggggg1=sum(err5)/Y[self.ii].shape[0]\n",
    "            self.erorSQR4.append(ggggg1[0])\n",
    "            #Ошибка на тестовых данных \n",
    "            err6 = list(map(lambda x:((z.x[0]+z.x[1]*(self.a(X1)**self.b)[self.jj][x]\n",
    "            +z.x[2]*(self.c(X2)**self.d)[self.jj][x]\n",
    "            +z.x[3]*(self.e(X3)**self.f)[self.jj][x]+z.x[4]*(self.g(X4)**self.h)[self.jj][x])-Y[self.ii][x])**2\n",
    "            +self.L1*((np.abs(z.x[1])+np.abs(z.x[2])+np.abs(z.x[3])\n",
    "            +np.abs(z.x[4])))+self.L2*(((z.x[1])**2+(z.x[2])**2+(z.x[3])**2+(z.x[4])**2)), range(self.jj.shape[0])))\n",
    "            gggggggg1=sum(err6)/Y[self.jj].shape[0]\n",
    "            self.erorSQR5.append(gggggggg1[0])\n",
    "\n",
    "        print(\"******************ФУНКЦИЯ МИНИМУМА**************************\")\n",
    "        print(\"*\"*60)\n",
    "        print (\"ОБУЧАЮЩИЕ ДАННЫЕ\")\n",
    "        print (\"Ошибка                          =\", sum(self.erorSQR4)/k)\n",
    "        print(\"*\"*60)\n",
    "        print (\"ТЕСТОВЫЕ ДАННЫЕ\")\n",
    "        print (\"Ошибка                          =\", sum(self.erorSQR5)/k)\n",
    "        print(\"*\"*60)\n",
    "        self.Spicok2.append(sum(self.erorSQR5)/k)\n",
    "        #  Далее конструктор для рассчета opt.minimize\n",
    "    def optim1(self,Koeff ):\n",
    "        self.err = list(map(lambda x:((Koeff[0]+Koeff[1]*(self.a(X1)**self.b)[self.ii][x]\n",
    "        +Koeff[2]*(self.c(X2)**self.d)[self.ii][x]\n",
    "        +Koeff[3]*(self.e(X3)**self.f)[self.ii][x]+Koeff[4]*(self.g(X4)**self.h)[self.ii][x])-Y[self.ii][x])**2\n",
    "        +self.L1*((np.abs(Koeff[1])+np.abs(Koeff[2])+np.abs(Koeff[3])\n",
    "        +np.abs(Koeff[4])))+self.L2*(((Koeff[1])**2+(Koeff[2])**2+(Koeff[3])**2+(Koeff[4])**2)), range(self.ii.shape[0])))\n",
    "        return np.mean(self.err)       \n",
    "  \n",
    "\n",
    "    def Non_stand_err(self,a,b,c,d,e,f,g,h,n,m,w,v,k,p,vv,ff,oo,nn):\n",
    "        self.vv=vv\n",
    "        self.ff=ff\n",
    "        self.oo=oo\n",
    "        self.nn=nn\n",
    "        for j in range(k):\n",
    "            #Делим случайно данные на обучающие и тестовые \n",
    "            perm = np.random.permutation( Y.shape[0] )\n",
    "            self.ii = perm[:int(Y.shape[0] * p)]\n",
    "            self.jj = perm[int(Y.shape[0]*p):]\n",
    "            #ДОБАВЛЯЕМ ОПТИМАЙЗ\n",
    "            z=opt.minimize( self.optim2, (0,0,0,0,0), method = 'CG' )\n",
    "            #Ошибка на тестовых данных \n",
    "            for i in range(self.jj.shape[0]):\n",
    "                err7 = ((z.x[0]+z.x[1]*(self.a(X1)**self.b)[self.jj][i]\n",
    "                                      +z.x[2]*(self.c(X2)**self.d)[self.jj][i]\n",
    "                    +z.x[3]*(self.e(X3)**self.f)[self.ii][i]+z.x[4]*(self.g(X4)**self.h)[self.jj][i])-Y[self.jj][i])\n",
    "                self.sum6+= (int(err7[0]<0)*err7[0])**self.vv+(int(err7[0]<0)*err7[0])*self.ff\n",
    "                +(int(err7[0]>=0)*err7[0])**self.oo +(int(err7[0]>=0)*err7[0])*self.nn\n",
    "            gggggggg2=self.sum2/Y[self.jj].shape[0]\n",
    "            self.erorSQR6+=gggggggg2\n",
    "\n",
    "        print(\"******************ФУНКЦИЯ МИНИМУМА**************************\")\n",
    "        print(\"*\"*60)\n",
    "        print (\"ТЕСТОВЫЕ ДАННЫЕ\")\n",
    "        print (\"Ошибка                          =\", sum(self.erorSQR6)/k)\n",
    "        print(\"*\"*60)\n",
    "        self.Spicok3.append(self.erorSQR6/k)\n",
    "        #  Далее конструктор для рассчета opt.minimize\n",
    "    def optim2(self,Koeff ):\n",
    "        for i in range(self.ii.shape[0]):\n",
    "            self.err = ((Koeff[0]+Koeff[1]*(self.a(X1)**self.b)[self.ii][i]\n",
    "                                      +Koeff[2]*(self.c(X2)**self.d)[self.ii][i]\n",
    "                    +Koeff[3]*(self.e(X3)**self.f)[self.ii][i]+Koeff[4]*(self.g(X4)**self.h)[self.ii][i])-Y[self.ii][i])\n",
    "            self.sum6+= (int(self.err<0)*self.err)**self.vv+(int(self.err[0]<0)*self.err)*self.ff\n",
    "            +(int(self.err>=0)*self.err)**self.oo +(int(self.err>=0)*self.err)*self.nn\n",
    "        return (self.sum6/self.ii.shape[0])"
   ]
  },
  {
   "cell_type": "markdown",
   "metadata": {},
   "source": [
    "# Обычные модели "
   ]
  },
  {
   "cell_type": "markdown",
   "metadata": {},
   "source": [
    "# Модель 1"
   ]
  },
  {
   "cell_type": "code",
   "execution_count": 368,
   "metadata": {},
   "outputs": [
    {
     "name": "stdout",
     "output_type": "stream",
     "text": [
      "************************************************************\n",
      "Коэффициент перед переменной X0 = -5364478.310255796\n",
      "Коэффициент перед переменной X1 = 16623600.656218933\n",
      "Коэффициент перед переменной X2 = 2707.125818185639\n",
      "Коэффициент перед переменной X3 = -56167.28718356168\n",
      "Коэффициент перед переменной X4 = 18970.459605793174\n",
      "************************************************************\n",
      "ПОЛНЫЙ НАБОР ДАННЫХ\n",
      "Ошибка                          = 9.708513971418142e-06\n",
      "Средний квадрат ошибки          = 527074762603.1389\n",
      "*************************МНК********************************\n",
      "************************************************************\n",
      "ОБУЧАЮЩИЕ ДАННЫЕ\n",
      "Ошибка                          = -1.7837513811313142e-09\n",
      "Средний квадрат ошибки          = 550582990273.5544\n",
      "************************************************************\n",
      "ТЕСТОВЫЕ ДАННЫЕ\n",
      "Ошибка                          = 28253.11817843942\n",
      "Средний квадрат ошибки          = 508590068913.1917\n",
      "************************************************************\n",
      "******************ФУНКЦИЯ МИНИМУМА**************************\n",
      "************************************************************\n",
      "ОБУЧАЮЩИЕ ДАННЫЕ\n",
      "Ошибка                          = -1.7837513811313142e-09\n",
      "Средний квадрат ошибки          = 550582990273.5544\n",
      "************************************************************\n",
      "ТЕСТОВЫЕ ДАННЫЕ\n",
      "Ошибка                          = 28253.11817843942\n",
      "Средний квадрат ошибки          = 508590068913.1917\n",
      "************************************************************\n"
     ]
    }
   ],
   "source": [
    "Model_1=MNK()\n",
    "Model_1.MNK_koef(np.array, 1, np.array, 1, np.array, 1, np.array, 1, 1, 1, 1, 1, 10, 0.75)"
   ]
  },
  {
   "cell_type": "markdown",
   "metadata": {},
   "source": [
    "# Модель 2"
   ]
  },
  {
   "cell_type": "code",
   "execution_count": 369,
   "metadata": {},
   "outputs": [
    {
     "name": "stdout",
     "output_type": "stream",
     "text": [
      "************************************************************\n",
      "Коэффициент перед переменной X0 = -3676157.997256948\n",
      "Коэффициент перед переменной X1 = 28790272.215116292\n",
      "Коэффициент перед переменной X2 = 762.0902186331344\n",
      "Коэффициент перед переменной X3 = -746.925936275417\n",
      "Коэффициент перед переменной X4 = 250.02885590192773\n",
      "************************************************************\n",
      "ПОЛНЫЙ НАБОР ДАННЫХ\n",
      "Ошибка                          = -0.0016784649342298508\n",
      "Средний квадрат ошибки          = 1107566774199.291\n",
      "*************************МНК********************************\n",
      "************************************************************\n",
      "ОБУЧАЮЩИЕ ДАННЫЕ\n",
      "Ошибка                          = 1.4784745424269487e-05\n",
      "Средний квадрат ошибки          = 1149424380865.2124\n",
      "************************************************************\n",
      "ТЕСТОВЫЕ ДАННЫЕ\n",
      "Ошибка                          = 39476.91141156519\n",
      "Средний квадрат ошибки          = 1104997644891.8743\n",
      "************************************************************\n",
      "******************ФУНКЦИЯ МИНИМУМА**************************\n",
      "************************************************************\n",
      "ОБУЧАЮЩИЕ ДАННЫЕ\n",
      "Ошибка                          = 1.4784745424269487e-05\n",
      "Средний квадрат ошибки          = 1149424380865.2124\n",
      "************************************************************\n",
      "ТЕСТОВЫЕ ДАННЫЕ\n",
      "Ошибка                          = 39476.91141156519\n",
      "Средний квадрат ошибки          = 1104997644891.8743\n",
      "************************************************************\n"
     ]
    }
   ],
   "source": [
    "Model_1.MNK_koef(np.array, 2, np.array, 2, np.array, 2, np.array, 2, 1, 1, 1, 1, 10, 0.75)"
   ]
  },
  {
   "cell_type": "markdown",
   "metadata": {},
   "source": [
    "# Модель 3"
   ]
  },
  {
   "cell_type": "code",
   "execution_count": 370,
   "metadata": {},
   "outputs": [
    {
     "name": "stdout",
     "output_type": "stream",
     "text": [
      "************************************************************\n",
      "Коэффициент перед переменной X0 = 2344569.6328241606\n",
      "Коэффициент перед переменной X1 = 1.6128504217606326e-07\n",
      "Коэффициент перед переменной X2 = -16.4125161579679\n",
      "Коэффициент перед переменной X3 = -84395.77766484905\n",
      "Коэффициент перед переменной X4 = 0.0\n",
      "************************************************************\n",
      "ПОЛНЫЙ НАБОР ДАННЫХ\n",
      "Ошибка                          = -0.0016785386833362281\n",
      "Средний квадрат ошибки          = 1762479604471.0962\n",
      "*************************МНК********************************\n",
      "************************************************************\n",
      "ОБУЧАЮЩИЕ ДАННЫЕ\n",
      "Ошибка                          = 1.472129101435153e-05\n",
      "Средний квадрат ошибки          = 1839076691958.7798\n",
      "************************************************************\n",
      "ТЕСТОВЫЕ ДАННЫЕ\n",
      "Ошибка                          = 67141.99702292748\n",
      "Средний квадрат ошибки          = 1730610828828.9487\n",
      "************************************************************\n",
      "******************ФУНКЦИЯ МИНИМУМА**************************\n",
      "************************************************************\n",
      "ОБУЧАЮЩИЕ ДАННЫЕ\n",
      "Ошибка                          = 1.472129101435153e-05\n",
      "Средний квадрат ошибки          = 1839076691958.7798\n",
      "************************************************************\n",
      "ТЕСТОВЫЕ ДАННЫЕ\n",
      "Ошибка                          = 67141.99702292748\n",
      "Средний квадрат ошибки          = 1730610828828.9487\n",
      "************************************************************\n"
     ]
    }
   ],
   "source": [
    "Model_1.MNK_koef(np.array, 3, np.array, 3, np.array, 1, np.exp, 1, 0, 1, 1, 0, 10, 0.75)"
   ]
  },
  {
   "cell_type": "markdown",
   "metadata": {},
   "source": [
    "# Модель 4"
   ]
  },
  {
   "cell_type": "code",
   "execution_count": 371,
   "metadata": {},
   "outputs": [
    {
     "name": "stdout",
     "output_type": "stream",
     "text": [
      "************************************************************\n",
      "Коэффициент перед переменной X0 = -4222938.571432195\n",
      "Коэффициент перед переменной X1 = 32149549.91662282\n",
      "Коэффициент перед переменной X2 = 7575.088553603186\n",
      "Коэффициент перед переменной X3 = 0.0\n",
      "Коэффициент перед переменной X4 = 3.007354651677846\n",
      "************************************************************\n",
      "ПОЛНЫЙ НАБОР ДАННЫХ\n",
      "Ошибка                          = 0.026105839351657778\n",
      "Средний квадрат ошибки          = 2382817458422.6655\n",
      "*************************МНК********************************\n",
      "************************************************************\n",
      "ОБУЧАЮЩИЕ ДАННЫЕ\n",
      "Ошибка                          = 0.0006829787301830948\n",
      "Средний квадрат ошибки          = 2413380046806.9634\n",
      "************************************************************\n",
      "ТЕСТОВЫЕ ДАННЫЕ\n",
      "Ошибка                          = 31808.47414954005\n",
      "Средний квадрат ошибки          = 2556884775353.082\n",
      "************************************************************\n",
      "******************ФУНКЦИЯ МИНИМУМА**************************\n",
      "************************************************************\n",
      "ОБУЧАЮЩИЕ ДАННЫЕ\n",
      "Ошибка                          = 0.0006829787301830948\n",
      "Средний квадрат ошибки          = 2413380046806.9634\n",
      "************************************************************\n",
      "ТЕСТОВЫЕ ДАННЫЕ\n",
      "Ошибка                          = 31808.47414954005\n",
      "Средний квадрат ошибки          = 2556884775353.082\n",
      "************************************************************\n"
     ]
    }
   ],
   "source": [
    "Model_1.MNK_koef(np.array, 2, np.log, 1, np.array, 2, np.array, 3, 1, 1, 0, 1, 10, 0.75)"
   ]
  },
  {
   "cell_type": "markdown",
   "metadata": {},
   "source": [
    "# Модель 5"
   ]
  },
  {
   "cell_type": "code",
   "execution_count": 372,
   "metadata": {},
   "outputs": [
    {
     "name": "stdout",
     "output_type": "stream",
     "text": [
      "************************************************************\n",
      "Коэффициент перед переменной X0 = 5.039753618332595e-53\n",
      "Коэффициент перед переменной X1 = 0.0\n",
      "Коэффициент перед переменной X2 = 0.0\n",
      "Коэффициент перед переменной X3 = 1.3466779809196426e-47\n",
      "Коэффициент перед переменной X4 = 8.749108928269599e-25\n",
      "************************************************************\n",
      "ПОЛНЫЙ НАБОР ДАННЫХ\n",
      "Ошибка                          = -55061100.95731234\n",
      "Средний квадрат ошибки          = 3762884325476.7803\n",
      "*************************МНК********************************\n",
      "************************************************************\n",
      "ОБУЧАЮЩИЕ ДАННЫЕ\n",
      "Ошибка                          = -602791.890202198\n",
      "Средний квадрат ошибки          = 3573203352339.9014\n",
      "************************************************************\n",
      "ТЕСТОВЫЕ ДАННЫЕ\n",
      "Ошибка                          = -570543.5852068303\n",
      "Средний квадрат ошибки          = 5352604136943.604\n",
      "************************************************************\n",
      "******************ФУНКЦИЯ МИНИМУМА**************************\n",
      "************************************************************\n",
      "ОБУЧАЮЩИЕ ДАННЫЕ\n",
      "Ошибка                          = -602791.890202198\n",
      "Средний квадрат ошибки          = 3573203352339.9014\n",
      "************************************************************\n",
      "ТЕСТОВЫЕ ДАННЫЕ\n",
      "Ошибка                          = -570543.5852068303\n",
      "Средний квадрат ошибки          = 5352604136943.604\n",
      "************************************************************\n"
     ]
    }
   ],
   "source": [
    "Model_1.MNK_koef(np.array, 1, np.array, 1, np.array, 4, np.exp, 1, 1, 0, 1, 1, 10, 0.75)"
   ]
  },
  {
   "cell_type": "markdown",
   "metadata": {},
   "source": [
    "# Модель 6"
   ]
  },
  {
   "cell_type": "code",
   "execution_count": 373,
   "metadata": {},
   "outputs": [
    {
     "name": "stdout",
     "output_type": "stream",
     "text": [
      "************************************************************\n",
      "Коэффициент перед переменной X0 = 7619315.365833677\n",
      "Коэффициент перед переменной X1 = 5845154.331481783\n",
      "Коэффициент перед переменной X2 = 10.111061708815406\n",
      "Коэффициент перед переменной X3 = -60849.97442642573\n",
      "Коэффициент перед переменной X4 = 0.0\n",
      "************************************************************\n",
      "ПОЛНЫЙ НАБОР ДАННЫХ\n",
      "Ошибка                          = -55061100.95732556\n",
      "Средний квадрат ошибки          = 4315968863933.533\n",
      "*************************МНК********************************\n",
      "************************************************************\n",
      "ОБУЧАЮЩИЕ ДАННЫЕ\n",
      "Ошибка                          = -602791.8902021156\n",
      "Средний квадрат ошибки          = 4171987092942.3154\n",
      "************************************************************\n",
      "ТЕСТОВЫЕ ДАННЫЕ\n",
      "Ошибка                          = -614036.1795356817\n",
      "Средний квадрат ошибки          = 5909802023562.673\n",
      "************************************************************\n",
      "******************ФУНКЦИЯ МИНИМУМА**************************\n",
      "************************************************************\n",
      "ОБУЧАЮЩИЕ ДАННЫЕ\n",
      "Ошибка                          = -602791.8902021156\n",
      "Средний квадрат ошибки          = 4171987092942.3154\n",
      "************************************************************\n",
      "ТЕСТОВЫЕ ДАННЫЕ\n",
      "Ошибка                          = -614036.1795356817\n",
      "Средний квадрат ошибки          = 5909802023562.673\n",
      "************************************************************\n"
     ]
    }
   ],
   "source": [
    "Model_1.MNK_koef(np.log, 1, np.array, 3, np.array, 1, np.array, 1, 1, 1, 1, 0, 10, 0.75)"
   ]
  },
  {
   "cell_type": "markdown",
   "metadata": {},
   "source": [
    "# Модель 7 "
   ]
  },
  {
   "cell_type": "code",
   "execution_count": 374,
   "metadata": {},
   "outputs": [
    {
     "name": "stdout",
     "output_type": "stream",
     "text": [
      "************************************************************\n",
      "Коэффициент перед переменной X0 = 2045614.8327203635\n",
      "Коэффициент перед переменной X1 = -2.0415767133668315e-08\n",
      "Коэффициент перед переменной X2 = -34402.75614477205\n",
      "Коэффициент перед переменной X3 = -82832.9579761498\n",
      "Коэффициент перед переменной X4 = 9764.116654366851\n",
      "************************************************************\n",
      "ПОЛНЫЙ НАБОР ДАННЫХ\n",
      "Ошибка                          = -55061100.95732559\n",
      "Средний квадрат ошибки          = 4949117264427.817\n",
      "*************************МНК********************************\n",
      "************************************************************\n",
      "ОБУЧАЮЩИЕ ДАННЫЕ\n",
      "Ошибка                          = -602791.8902021152\n",
      "Средний квадрат ошибки          = 4711246868275.5625\n",
      "************************************************************\n",
      "ТЕСТОВЫЕ ДАННЫЕ\n",
      "Ошибка                          = -681925.5249756565\n",
      "Средний квадрат ошибки          = 6994751460444.842\n",
      "************************************************************\n",
      "******************ФУНКЦИЯ МИНИМУМА**************************\n",
      "************************************************************\n",
      "ОБУЧАЮЩИЕ ДАННЫЕ\n",
      "Ошибка                          = -602791.8902021152\n",
      "Средний квадрат ошибки          = 4711246868275.5625\n",
      "************************************************************\n",
      "ТЕСТОВЫЕ ДАННЫЕ\n",
      "Ошибка                          = -681925.5249756565\n",
      "Средний квадрат ошибки          = 6994751460444.842\n",
      "************************************************************\n"
     ]
    }
   ],
   "source": [
    "Model_1.MNK_koef(np.array, 1, np.array, 1, np.array, 1, np.array, 1, 0, 1, 1, 1, 10, 0.75)"
   ]
  },
  {
   "cell_type": "markdown",
   "metadata": {},
   "source": [
    "# Модель 8 "
   ]
  },
  {
   "cell_type": "code",
   "execution_count": 375,
   "metadata": {},
   "outputs": [
    {
     "name": "stdout",
     "output_type": "stream",
     "text": [
      "************************************************************\n",
      "Коэффициент перед переменной X0 = -7861002.932357026\n",
      "Коэффициент перед переменной X1 = 28702158.056363255\n",
      "Коэффициент перед переменной X2 = 2.039555512634693e-06\n",
      "Коэффициент перед переменной X3 = -760.73873622419\n",
      "Коэффициент перед переменной X4 = 1248093.356831567\n",
      "************************************************************\n",
      "ПОЛНЫЙ НАБОР ДАННЫХ\n",
      "Ошибка                          = -55058878.950497255\n",
      "Средний квадрат ошибки          = 5525460478730.076\n",
      "*************************МНК********************************\n",
      "************************************************************\n",
      "ОБУЧАЮЩИЕ ДАННЫЕ\n",
      "Ошибка                          = -602790.0952844045\n",
      "Средний квадрат ошибки          = 5259931843233.647\n",
      "************************************************************\n",
      "ТЕСТОВЫЕ ДАННЫЕ\n",
      "Ошибка                          = 693502061.6437078\n",
      "Средний квадрат ошибки          = 5.925566895089254e+19\n",
      "************************************************************\n",
      "******************ФУНКЦИЯ МИНИМУМА**************************\n",
      "************************************************************\n",
      "ОБУЧАЮЩИЕ ДАННЫЕ\n",
      "Ошибка                          = -602790.0952844045\n",
      "Средний квадрат ошибки          = 5259931843233.647\n",
      "************************************************************\n",
      "ТЕСТОВЫЕ ДАННЫЕ\n",
      "Ошибка                          = 693502061.6437078\n",
      "Средний квадрат ошибки          = 5.925566895089254e+19\n",
      "************************************************************\n"
     ]
    }
   ],
   "source": [
    "Model_1.MNK_koef(np.array, 2, np.exp, 1, np.array, 2, np.log, 1, 1, 1, 1, 1, 10, 0.75)"
   ]
  },
  {
   "cell_type": "markdown",
   "metadata": {},
   "source": [
    "# Модели с регуляризацией "
   ]
  },
  {
   "cell_type": "markdown",
   "metadata": {},
   "source": [
    "# Модель 1"
   ]
  },
  {
   "cell_type": "code",
   "execution_count": 376,
   "metadata": {},
   "outputs": [
    {
     "name": "stdout",
     "output_type": "stream",
     "text": [
      "******************ФУНКЦИЯ МИНИМУМА**************************\n",
      "************************************************************\n",
      "ОБУЧАЮЩИЕ ДАННЫЕ\n",
      "Ошибка                          = 570591556198.9475\n",
      "************************************************************\n",
      "ТЕСТОВЫЕ ДАННЫЕ\n",
      "Ошибка                          = 7.604695526335318e+19\n",
      "************************************************************\n"
     ]
    }
   ],
   "source": [
    "Model_1.Regular(a=np.array, b=1, c=np.array, d=1, e=np.array, f=1, g=np.array, h=1, n=1, m=1, w=1, v=1, k=10, p=0.75, L1=1, L2=0)"
   ]
  },
  {
   "cell_type": "markdown",
   "metadata": {},
   "source": [
    "# Модель 2"
   ]
  },
  {
   "cell_type": "code",
   "execution_count": 377,
   "metadata": {},
   "outputs": [
    {
     "name": "stdout",
     "output_type": "stream",
     "text": [
      "******************ФУНКЦИЯ МИНИМУМА**************************\n",
      "************************************************************\n",
      "ОБУЧАЮЩИЕ ДАННЫЕ\n",
      "Ошибка                          = 1342404625415.4097\n",
      "************************************************************\n",
      "ТЕСТОВЫЕ ДАННЫЕ\n",
      "Ошибка                          = 7.884569469759773e+19\n",
      "************************************************************\n"
     ]
    }
   ],
   "source": [
    "Model_1.Regular(a=np.array, b=1, c=np.array, d=1, e=np.array, f=1, g=np.array, h=1, n=1, m=1, w=1, v=1, k=10, p=0.75, L1=1, L2=1)"
   ]
  },
  {
   "cell_type": "markdown",
   "metadata": {},
   "source": [
    "# Модель 3"
   ]
  },
  {
   "cell_type": "code",
   "execution_count": 378,
   "metadata": {},
   "outputs": [
    {
     "name": "stdout",
     "output_type": "stream",
     "text": [
      "******************ФУНКЦИЯ МИНИМУМА**************************\n",
      "************************************************************\n",
      "ОБУЧАЮЩИЕ ДАННЫЕ\n",
      "Ошибка                          = 2006429678782.7417\n",
      "************************************************************\n",
      "ТЕСТОВЫЕ ДАННЫЕ\n",
      "Ошибка                          = 7.884569634233513e+19\n",
      "************************************************************\n"
     ]
    }
   ],
   "source": [
    "Model_1.Regular(a=np.array, b=1, c=np.array, d=1, e=np.array, f=1, g=np.array, h=1, n=1, m=1, w=1, v=1, k=10, p=0.75, L1=0, L2=1)"
   ]
  },
  {
   "cell_type": "markdown",
   "metadata": {},
   "source": [
    "# Модель 4"
   ]
  },
  {
   "cell_type": "code",
   "execution_count": 379,
   "metadata": {},
   "outputs": [
    {
     "name": "stdout",
     "output_type": "stream",
     "text": [
      "******************ФУНКЦИЯ МИНИМУМА**************************\n",
      "************************************************************\n",
      "ОБУЧАЮЩИЕ ДАННЫЕ\n",
      "Ошибка                          = 2622583850469.7944\n",
      "************************************************************\n",
      "ТЕСТОВЫЕ ДАННЫЕ\n",
      "Ошибка                          = 1.564317863144069e+20\n",
      "************************************************************\n"
     ]
    }
   ],
   "source": [
    "Model_1.Regular(a=np.array, b=2, c=np.array, d=3, e=np.array, f=2, g=np.array, h=1, n=1, m=1, w=1, v=1, k=10, p=0.75, L1=1, L2=0)"
   ]
  },
  {
   "cell_type": "markdown",
   "metadata": {},
   "source": [
    "# Модели с нестандартными моделями "
   ]
  },
  {
   "cell_type": "markdown",
   "metadata": {},
   "source": [
    "# Модель 1"
   ]
  },
  {
   "cell_type": "code",
   "execution_count": 380,
   "metadata": {},
   "outputs": [
    {
     "name": "stdout",
     "output_type": "stream",
     "text": [
      "******************ФУНКЦИЯ МИНИМУМА**************************\n",
      "************************************************************\n",
      "ТЕСТОВЫЕ ДАННЫЕ\n",
      "Ошибка                          = 21850684620432.57\n",
      "************************************************************\n"
     ]
    }
   ],
   "source": [
    "Model_1.Non_stand_err(a=np.array, b=1, c=np.array, d=1, e=np.array, f=1, g=np.array, \n",
    "                                      h=1, n=1, m=1, w=1, v=1, k=10, p=0.75, vv=5,ff=2,oo=6,nn=2)"
   ]
  },
  {
   "cell_type": "markdown",
   "metadata": {},
   "source": [
    "# Модель 2"
   ]
  },
  {
   "cell_type": "code",
   "execution_count": 381,
   "metadata": {},
   "outputs": [
    {
     "name": "stdout",
     "output_type": "stream",
     "text": [
      "******************ФУНКЦИЯ МИНИМУМА**************************\n",
      "************************************************************\n",
      "ТЕСТОВЫЕ ДАННЫЕ\n",
      "Ошибка                          = 43701369240865.14\n",
      "************************************************************\n"
     ]
    }
   ],
   "source": [
    "Model_1.Non_stand_err(a=np.array, b=1, c=np.array, d=1, e=np.array, f=1, g=np.array, \n",
    "                h=1, n=1, m=1, w=1, v=1, k=10, p=0.75, vv=2,ff=3,oo=1,nn=4)"
   ]
  },
  {
   "cell_type": "markdown",
   "metadata": {},
   "source": [
    "# Модель 3"
   ]
  },
  {
   "cell_type": "code",
   "execution_count": 382,
   "metadata": {},
   "outputs": [
    {
     "name": "stdout",
     "output_type": "stream",
     "text": [
      "******************ФУНКЦИЯ МИНИМУМА**************************\n",
      "************************************************************\n",
      "ТЕСТОВЫЕ ДАННЫЕ\n",
      "Ошибка                          = 65552053861297.73\n",
      "************************************************************\n"
     ]
    }
   ],
   "source": [
    "Model_1.Non_stand_err(a=np.array, b=1, c=np.array, d=1, e=np.array, f=1, g=np.array, \n",
    "                h=1, n=1, m=1, w=1, v=1, k=10, p=0.75, vv=5,ff=2,oo=6,nn=2)"
   ]
  },
  {
   "cell_type": "markdown",
   "metadata": {},
   "source": [
    "# Модель 4"
   ]
  },
  {
   "cell_type": "code",
   "execution_count": 383,
   "metadata": {},
   "outputs": [
    {
     "name": "stdout",
     "output_type": "stream",
     "text": [
      "******************ФУНКЦИЯ МИНИМУМА**************************\n",
      "************************************************************\n",
      "ТЕСТОВЫЕ ДАННЫЕ\n",
      "Ошибка                          = 87402738481730.34\n",
      "************************************************************\n"
     ]
    }
   ],
   "source": [
    "Model_1.Non_stand_err(a=np.array, b=1, c=np.array, d=1, e=np.array, f=1, g=np.array, \n",
    "                h=1, n=1, m=1, w=1, v=1, k=10, p=0.75, vv=2,ff=1,oo=1,nn=4)"
   ]
  },
  {
   "cell_type": "markdown",
   "metadata": {},
   "source": [
    "# Модель 5"
   ]
  },
  {
   "cell_type": "code",
   "execution_count": 384,
   "metadata": {},
   "outputs": [
    {
     "name": "stdout",
     "output_type": "stream",
     "text": [
      "******************ФУНКЦИЯ МИНИМУМА**************************\n",
      "************************************************************\n",
      "ТЕСТОВЫЕ ДАННЫЕ\n",
      "Ошибка                          = 109253423102162.97\n",
      "************************************************************\n"
     ]
    }
   ],
   "source": [
    "Model_1.Non_stand_err(a=np.array, b=1, c=np.array, d=1, e=np.array, f=1, g=np.array, \n",
    "                h=1, n=1, m=1, w=1, v=1, k=10, p=0.75, vv=5,ff=1,oo=7,nn=5)"
   ]
  },
  {
   "cell_type": "markdown",
   "metadata": {},
   "source": [
    "# Выбор лучшей модели "
   ]
  },
  {
   "cell_type": "markdown",
   "metadata": {},
   "source": [
    "Подается список с тестовыми квадратами средних ошибок. \n",
    "\n",
    "В переменную Nomer присваивается значения от 1 до количество элементов в MNK.Spicok предполагается что в MNK.Spicok будет столько ошибок, сколько моделей протестировалось.\n",
    "\n",
    "В переменной LL каждой ошибке присваивается табильный номер. Например, номер 1 означет - модель первая.\n",
    "\n",
    "Далее создается словать Slovar.\n",
    "\n",
    "Далее отсортировываем ошибки по убыванию, каждой ошибки присваиваем табельный номеp (присваивание табельного номера, скорее излишне, но пусть будет).\n",
    "\n",
    "Дальше мы меняем местами ключи и элементы из изначально созданного словаря Slovar. Это делается для того, чтобы после того, как мы заданим в ключ наименьшую ошибку из всех, нам выдало номер наилучшей модели. "
   ]
  },
  {
   "cell_type": "markdown",
   "metadata": {},
   "source": [
    "# Лучшая модель по методу МНК"
   ]
  },
  {
   "cell_type": "code",
   "execution_count": 385,
   "metadata": {},
   "outputs": [
    {
     "data": {
      "text/plain": [
       "'НАИЛУЧШАЯ МОДЕЛЬ С ТОЧКИ ЗРЕНИЯ МАШИННОГО ОБУЧЕНИЯ ПОД НОМЕРОМ 1.'"
      ]
     },
     "execution_count": 385,
     "metadata": {},
     "output_type": "execute_result"
    }
   ],
   "source": [
    "from copy import deepcopy\n",
    "Nomer=range(1,len(MNK.Spicok)+1)\n",
    "Spicok_copy=deepcopy(MNK.Spicok)\n",
    "#Копировать пришлось из за того, что последующая сортировка в MNK.Spicok привела к сортировке в других кодых \n",
    "#где находится переменная MNK.Spicok\n",
    "LL=list(zip(Nomer,MNK.Spicok))\n",
    "Slovar = dict(LL)\n",
    "xx = list( Slovar.items() )\n",
    "Spicok_copy.sort()\n",
    "lychaya_model=list(zip(Nomer, Spicok_copy))\n",
    "Model=dict()\n",
    "list(map( lambda x: Model.setdefault(x[1],x[0]), xx))\n",
    "CAR=Model[lychaya_model[0][1]]\n",
    "f'НАИЛУЧШАЯ МОДЕЛЬ С ТОЧКИ ЗРЕНИЯ МАШИННОГО ОБУЧЕНИЯ ПОД НОМЕРОМ {CAR}.'"
   ]
  },
  {
   "cell_type": "markdown",
   "metadata": {},
   "source": [
    "# Лучшая модель методом Оптимума "
   ]
  },
  {
   "cell_type": "code",
   "execution_count": 386,
   "metadata": {},
   "outputs": [
    {
     "data": {
      "text/plain": [
       "'НАИЛУЧШАЯ МОДЕЛЬ С ТОЧКИ ЗРЕНИЯ МАШИННОГО ОБУЧЕНИЯ ПОД НОМЕРОМ 1.'"
      ]
     },
     "execution_count": 386,
     "metadata": {},
     "output_type": "execute_result"
    }
   ],
   "source": [
    "Nomer1=range(1,len(MNK.Spicok1)+1)\n",
    "Spicok1_copy=deepcopy(MNK.Spicok1)\n",
    "#Копировать пришлось из за того, что последующая сортировка в MNK.Spicok привела к сортировке в других кодых \n",
    "#где находится переменная MNK.Spicok\n",
    "LL1=list(zip(Nomer1,MNK.Spicok1))\n",
    "Slovar1 = dict(LL1)\n",
    "xx1 = list( Slovar1.items() )\n",
    "Spicok1_copy.sort()\n",
    "lychaya_model1=list(zip(Nomer1, Spicok1_copy))\n",
    "Model1=dict()\n",
    "list(map( lambda x: Model1.setdefault(x[1],x[0]), xx1))\n",
    "CAR1=Model[lychaya_model1[0][1]]\n",
    "f'НАИЛУЧШАЯ МОДЕЛЬ С ТОЧКИ ЗРЕНИЯ МАШИННОГО ОБУЧЕНИЯ ПОД НОМЕРОМ {CAR1}.'"
   ]
  },
  {
   "cell_type": "markdown",
   "metadata": {},
   "source": [
    "# Лучшая модель (Регуляризация)"
   ]
  },
  {
   "cell_type": "code",
   "execution_count": 387,
   "metadata": {},
   "outputs": [
    {
     "data": {
      "text/plain": [
       "'НАИЛУЧШАЯ МОДЕЛЬ С ТОЧКИ ЗРЕНИЯ МАШИННОГО ОБУЧЕНИЯ ПОД НОМЕРОМ 1.'"
      ]
     },
     "execution_count": 387,
     "metadata": {},
     "output_type": "execute_result"
    }
   ],
   "source": [
    "Nomer2=range(1,len(MNK.Spicok2)+1)\n",
    "Spicok2_copy=deepcopy(MNK.Spicok2)\n",
    "#Копировать пришлось из за того, что последующая сортировка в MNK.Spicok привела к сортировке в других кодых \n",
    "#где находится переменная MNK.Spicok\n",
    "LL2=list(zip(Nomer2,MNK.Spicok2))\n",
    "Slovar2 = dict(LL2)\n",
    "xx2 = list( Slovar2.items() )\n",
    "Spicok2_copy.sort()\n",
    "lychaya_model2=list(zip(Nomer2, Spicok2_copy))\n",
    "Model2=dict()\n",
    "list(map( lambda x: Model2.setdefault(x[1],x[0]), xx2))\n",
    "CAR2=Model2[lychaya_model2[0][1]]\n",
    "f'НАИЛУЧШАЯ МОДЕЛЬ С ТОЧКИ ЗРЕНИЯ МАШИННОГО ОБУЧЕНИЯ ПОД НОМЕРОМ {CAR2}.'"
   ]
  },
  {
   "cell_type": "markdown",
   "metadata": {},
   "source": [
    "# Лучшая модель (Нестандартные ошибки)"
   ]
  },
  {
   "cell_type": "code",
   "execution_count": 388,
   "metadata": {},
   "outputs": [],
   "source": [
    "Spicok3=list(map(lambda x: MNK.Spicok3[x][0],range(len(MNK.Spicok3))))"
   ]
  },
  {
   "cell_type": "code",
   "execution_count": 389,
   "metadata": {},
   "outputs": [
    {
     "data": {
      "text/plain": [
       "'НАИЛУЧШАЯ МОДЕЛЬ С ТОЧКИ ЗРЕНИЯ МАШИННОГО ОБУЧЕНИЯ ПОД НОМЕРОМ 1.'"
      ]
     },
     "execution_count": 389,
     "metadata": {},
     "output_type": "execute_result"
    }
   ],
   "source": [
    "Nomer3=range(1,len(Spicok3)+1)\n",
    "Spicok3_copy=deepcopy(Spicok3)\n",
    "#Копировать пришлось из за того, что последующая сортировка в MNK.Spicok привела к сортировке в других кодых \n",
    "#где находится переменная MNK.Spicok\n",
    "LL3=list(zip(Nomer3,Spicok3))\n",
    "Slovar3 = dict(LL3)\n",
    "xx3 = list( Slovar3.items() )\n",
    "Spicok3_copy.sort()\n",
    "lychaya_model3=list(zip(Nomer3, Spicok3_copy))\n",
    "Model3=dict()\n",
    "list(map( lambda x: Model3.setdefault(x[1],x[0]), xx3))\n",
    "CAR3=Model3[lychaya_model3[0][1]]\n",
    "f'НАИЛУЧШАЯ МОДЕЛЬ С ТОЧКИ ЗРЕНИЯ МАШИННОГО ОБУЧЕНИЯ ПОД НОМЕРОМ {CAR3}.'"
   ]
  },
  {
   "cell_type": "markdown",
   "metadata": {},
   "source": [
    "# Лучшая модель из 4-х классов "
   ]
  },
  {
   "cell_type": "code",
   "execution_count": 394,
   "metadata": {},
   "outputs": [
    {
     "data": {
      "text/plain": [
       "'ЛУЧШАЯ МОДЕЛЬ ЭТО МОДЕЛЬ ИЗ КЛАССА Лучшая модель методом Оптимума.'"
      ]
     },
     "execution_count": 394,
     "metadata": {},
     "output_type": "execute_result"
    }
   ],
   "source": [
    "Luch=[lychaya_model[0][1]]+[lychaya_model1[0][1]]+[lychaya_model2[0][1]]+[lychaya_model3[0][1]]\n",
    "Nomer4=(\"Лучшая модель по методу МНК\",\"Лучшая модель методом Оптимума\",\"Лучшая модель (Регуляризация)\",\"Лучшая модель (Нестандартные ошибки)\")\n",
    "Luch_copy=deepcopy(Luch)\n",
    "Luch_copy.sort()\n",
    "LL4=list(zip(Luch,Nomer4))\n",
    "Slovar4 = dict(LL4)\n",
    "CAR4=Slovar4[Luch_copy[0]]\n",
    "CAR4\n",
    "f'ЛУЧШАЯ МОДЕЛЬ ЭТО МОДЕЛЬ ИЗ КЛАССА {CAR4}.'"
   ]
  }
 ],
 "metadata": {
  "kernelspec": {
   "display_name": "Python 3",
   "language": "python",
   "name": "python3"
  },
  "language_info": {
   "codemirror_mode": {
    "name": "ipython",
    "version": 3
   },
   "file_extension": ".py",
   "mimetype": "text/x-python",
   "name": "python",
   "nbconvert_exporter": "python",
   "pygments_lexer": "ipython3",
   "version": "3.7.6"
  }
 },
 "nbformat": 4,
 "nbformat_minor": 4
}
